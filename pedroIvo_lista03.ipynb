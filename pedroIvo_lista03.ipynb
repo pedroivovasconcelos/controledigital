{
 "cells": [
  {
   "cell_type": "markdown",
   "id": "1d58b32860dd5d45",
   "metadata": {
    "collapsed": false
   },
   "source": [
    "Pedro Ivo Vasconcelos - TP\n",
    "\n",
    "## **Capítulo 3**\n",
    "\n",
    "1) **a.** Equações:\n",
    "$$y_1(k) = 0.7770 \\cdot y_1(k-1) + 0.6177 \\cdot u(k-1);$$\n",
    "\n",
    "$$y_2(k) = 0.8521 \\cdot y_2(k-1) + 0.6234 \\cdot u(k-1) -0.4327 \\cdot u(k-3) + 0.2190 \\cdot u(k-4);$$\n",
    "\n",
    "$$y_3(k) = 1.4042 \\cdot y_3(k-1) -0.4983 \\cdot y_3(k-2) +0.3569 \\cdot u(k-1) -0.5219 \\cdot u(k-4) +0.4256 \\cdot u(k-5);$$\n",
    "\n",
    "$$y_4(k) = 0.8888 \\cdot y_4(k-1) +0.5221 \\cdot u(k-1) -0.4247 \\cdot u(k-4) +0.2106 \\cdot u(k-5);$$\n",
    "\n",
    "$$y_5(k) = 1.3316 \\cdot y_5(k-1) -0.4182 \\cdot y_5(k-2) +0.2399 \\cdot u(k-1);$$\n",
    "\n",
    "\n",
    "**b.** TF:\n",
    "$$\\frac{Y_1(z)}{U(z)} = \\frac{0.6177}{z-0.7770}$$\n",
    "\n",
    "$$\\frac{Y_2(z)}{U(z)} = \\frac{0.6234z^3 - 0.4327z + 0.2190}{z^4 - 0.8521z^3}$$\n",
    "\n",
    "$$\\frac{Y_3(z)}{U(z)} = \\frac{0.3569z^4 - 0.5219z + 0.4256}{z^5 - 1.4042z^4 + 0.4983z^3}$$\n",
    "\n",
    "$$\\frac{Y_4(z)}{U(z)} = \\frac{0.5221z^4 - 0.4247z + 0.2106}{z^5 - 0.8888z^4}$$\n",
    "\n",
    "$$\\frac{Y_5(z)}{U(z)} = \\frac{0.2399}{z^2 - 1.3316z + 0.4182}$$\n",
    "\n",
    "\n",
    "2) O modelo passa a não atender às especificações do controlador, uma vez \n",
    "que seu comportamento passa a ser explicitamente não linear. \n",
    "A linearização é definida, inerentemente, sobre um ponto de operação, \n",
    "e se este for inadequado, a aproximação linear fica discrepante do modelo real.\n",
    "\n",
    "\n",
    "3) $$ \\frac{Ys}{Us}=\\frac{2,77}{1,62s+1} $$ \n",
    " \n",
    "Para obter o modelo, foi obtido o valor final do G5(z), \n",
    "com isso, o ganho foi obtido, para a função de transferência, foi obtido um \n",
    "tempo aproximado de 63% da saturação, e este foi considerado tau."
   ]
  }
 ],
 "metadata": {
  "kernelspec": {
   "display_name": "Python 3",
   "language": "python",
   "name": "python3"
  },
  "language_info": {
   "codemirror_mode": {
    "name": "ipython",
    "version": 2
   },
   "file_extension": ".py",
   "mimetype": "text/x-python",
   "name": "python",
   "nbconvert_exporter": "python",
   "pygments_lexer": "ipython2",
   "version": "2.7.6"
  }
 },
 "nbformat": 4,
 "nbformat_minor": 5
}
