{
 "cells": [
  {
   "cell_type": "markdown",
   "id": "1d58b32860dd5d45",
   "metadata": {
    "collapsed": false
   },
   "source": [
    "Pedro Ivo Vasconcelos - TP\n",
    "\n",
    "## **Capítulo 8**\n",
    "1) Para responder isto é necessário verificar se os estados $x_{2}$ e $x_{3}$ são além de observáveis são também controláveis\n",
    "\n",
    "Pegando a matriz C da questão 6 no capítulo 7:\n",
    "\n",
    "$C = \\begin{bmatrix}\n",
    "0 & 1 & 0 & 0 & 0 & 0 & 0 \\\\\n",
    "0 & 0 & 1 & 0 & 0 & 0 & 0\n",
    "\\end{bmatrix}$\n",
    "\n",
    "Fazendo a matriz de observabilidade a partir de A e C para representar o pH, é possível verificar que somente dois estados são observáveis.\n",
    "\n",
    "$O_{bsv}$ = $\\begin{bmatrix}\n",
    "C \\\\\n",
    "CA \\\\\n",
    "CA^2 \\\\\n",
    "\\vdots \\\\\n",
    "CA^{n-1}\n",
    "\\end{bmatrix}$\n",
    "\n",
    "E analisando o problema de controlabilidade com a nova $O_{bsv}$, a controlabilidade pode ser verficada por:\n",
    "\n",
    "$C_{trb}$\\=\\[B $O_{bsv}$ B  $O_{bsv}$<sup>2</sup>B ⋯ $O_{bsv}$<sup>n−1</sup>B\\]"
   ]
  },
  {
   "cell_type": "code",
   "execution_count": 35,
   "id": "e574abdc",
   "metadata": {},
   "outputs": [
    {
     "name": "stdout",
     "output_type": "stream",
     "text": [
      "Posto da matriz de controlabilidade dos estados observáveis: 2\n",
      "Os estados observáveis são controláveis.\n"
     ]
    }
   ],
   "source": [
    "import numpy as np\n",
    "from numpy.linalg import matrix_rank\n",
    "\n",
    "# Definindo a matriz A e a matriz C\n",
    "A = np.diag([0.031, 0.791, 0.791, 1.0, 1.0, 1.0, 1.0])\n",
    "C = np.array([\n",
    "    [0, 1, 0, 0, 0, 0, 0],  # x2\n",
    "    [0, 0, 1, 0, 0, 0, 0]   # x3\n",
    "])\n",
    "\n",
    "# Definindo a matriz B\n",
    "B = np.array([\n",
    "    [0.1545, 0.1545],\n",
    "    [2.47e-4, -2.49e-4],\n",
    "    [-4.56e-5, -4.15e-5],\n",
    "    [-0.0303, 0],\n",
    "    [0, 0],\n",
    "    [0, -0.0303],\n",
    "    [0, 0]\n",
    "])\n",
    "\n",
    "# Calculando a matriz de observabilidade O_bsv\n",
    "n = A.shape[0]\n",
    "obsv = C\n",
    "for i in range(1, n):\n",
    "    obsv = np.vstack((obsv, C @ np.linalg.matrix_power(A, i)))\n",
    "\n",
    "# Construindo a matriz de controlabilidade usando O_bsv e B\n",
    "ctrb = B\n",
    "for i in range(1, n):\n",
    "    ctrb = np.hstack((ctrb, np.linalg.matrix_power(A, i) @ B))\n",
    "\n",
    "# Calculando o posto da matriz de controlabilidade usando a matriz de observabilidade\n",
    "obsv_ctrb = obsv @ ctrb\n",
    "\n",
    "# Calculando o posto da matriz obsv_ctrb\n",
    "rank_of_controllability = matrix_rank(obsv_ctrb)\n",
    "print(\"Posto da matriz de controlabilidade dos estados observáveis:\", rank_of_controllability)\n",
    "\n",
    "if rank_of_controllability == C.shape[0]:\n",
    "    print(\"Os estados observáveis são controláveis.\")\n",
    "else:\n",
    "    print(\"Os estados observáveis não são controláveis.\")"
   ]
  },
  {
   "cell_type": "markdown",
   "id": "2eb28f20",
   "metadata": {},
   "source": [
    "2. Para obter uma constante de tempo igual a metade do tempo"
   ]
  },
  {
   "cell_type": "code",
   "execution_count": 1,
   "id": "afd5bbcf",
   "metadata": {},
   "outputs": [
    {
     "data": {
      "text/plain": [
       "(array([[-1519.40069151,  9116.40414906],\n",
       "        [ 1669.51015742,  9043.18001935]]),\n",
       " array([1.582, 1.582]))"
      ]
     },
     "execution_count": 1,
     "metadata": {},
     "output_type": "execute_result"
    }
   ],
   "source": [
    "import numpy as np\n",
    "from scipy.signal import place_poles\n",
    "\n",
    "# Definindo A e B\n",
    "A = np.array([[0.791, 0], [0, 0.791]])\n",
    "B = np.array([[2.47e-4, -2.49e-4], [-4.56e-5, -4.15e-5]])\n",
    "\n",
    "# Novos autovalores desejados\n",
    "desired_poles = np.array([1.582, 1.582])\n",
    "\n",
    "# Calculando a matriz K usando alocação de polos\n",
    "K = place_poles(A, B, desired_poles).gain_matrix\n",
    "\n",
    "# Verificando os autovalores do sistema em malha fechada\n",
    "A_cl = A - B @ K\n",
    "eigenvalues = np.linalg.eigvals(A_cl)\n",
    "(K, eigenvalues)"
   ]
  },
  {
   "cell_type": "markdown",
   "id": "1f186c18",
   "metadata": {},
   "source": []
  }
 ],
 "metadata": {
  "kernelspec": {
   "display_name": "Python 3",
   "language": "python",
   "name": "python3"
  },
  "language_info": {
   "codemirror_mode": {
    "name": "ipython",
    "version": 3
   },
   "file_extension": ".py",
   "mimetype": "text/x-python",
   "name": "python",
   "nbconvert_exporter": "python",
   "pygments_lexer": "ipython3",
   "version": "3.12.2"
  }
 },
 "nbformat": 4,
 "nbformat_minor": 5
}
