{
 "cells": [
  {
   "cell_type": "markdown",
   "id": "1d58b32860dd5d45",
   "metadata": {
    "collapsed": false
   },
   "source": [
    "Pedro Ivo Vasconcelos - TP\n",
    "\n",
    "## **Capítulo 5**\n",
    "\n",
    "1) Critério de Jury: $$G(z) = \\frac{0.6177}{z - 0.7770}$$\n",
    "\n",
    "<img alt=\"Lugar das Raízes\" src=\"anexos\\c5e1 Root Locus.png\" title=\"Lugar das Raízes\">\n",
    "\n",
    "\n",
    "2) Nyquist:\n",
    "\n",
    "<img alt=\"Nyquist\" src=\"anexos\\c5e2 Nyquist.png\" title=\"Nyquist\">\n",
    "\n",
    "\n",
    "3) Bode: O valor não possui a margem de fase desejada, ao saturar\n",
    " em -180º a partir da amostragem o sistema se mostra incapaz de\n",
    " ultrapassar a zona instável.\n",
    "\n",
    "<img alt=\"Diagrama de Bode\" src=\"anexos\\c5e3 Diagrama de Bode.png\" title=\"Diagrama de Bode\">\n",
    "\n",
    "4) Nichols:\n",
    "\n",
    "<img alt=\"Nichols\" src=\"anexos\\c5e4 Nichols.png\" title=\"Nichols\">\n",
    "\n",
    "5) Lugar das Raízes: O valor se mostra coerente, pois a linha está sobre um número ímpar do somatório de pólos e zeros."
   ]
  }
 ],
 "metadata": {
  "kernelspec": {
   "display_name": "Python 3",
   "language": "python",
   "name": "python3"
  },
  "language_info": {
   "codemirror_mode": {
    "name": "ipython",
    "version": 2
   },
   "file_extension": ".py",
   "mimetype": "text/x-python",
   "name": "python",
   "nbconvert_exporter": "python",
   "pygments_lexer": "ipython2",
   "version": "2.7.6"
  }
 },
 "nbformat": 4,
 "nbformat_minor": 5
}
