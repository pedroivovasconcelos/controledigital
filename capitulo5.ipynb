{
 "cells": [
  {
   "cell_type": "markdown",
   "id": "1d58b32860dd5d45",
   "metadata": {
    "collapsed": false
   },
   "source": [
    "Pedro Ivo Vasconcelos - TP\n",
    "\n",
    "## **Capítulo 5**\n",
    "\n",
    "1) Critério de Jury: $$G(z) = \\frac{0.6177}{z - 0.7770}$$\n",
    "\n",
    "<img alt=\"Lugar das Raízes\" src=\"anexos\\c5e1 Root Locus.png\" title=\"Lugar das Raízes\">\n",
    "\n",
    "\n",
    "2) Nyquist:\n",
    "\n",
    "<img alt=\"Nyquist\" src=\"anexos\\c5e2 Nyquist.png\" title=\"Nyquist\">\n",
    "\n",
    "\n",
    "3) Bode: O valor não possui a margem de fase desejada, ao saturar\n",
    " em -180º a partir da amostragem o sistema se mostra incapaz de\n",
    " ultrapassar a zona instável.\n",
    "\n",
    "<img alt=\"Diagrama de Bode\" src=\"anexos\\c5e3 Diagrama de Bode.png\" title=\"Diagrama de Bode\">\n",
    "\n",
    "4) Nichols:\n",
    "\n",
    "<img alt=\"Nichols\" src=\"anexos\\c5e4 Nichols.png\" title=\"Nichols\">\n",
    "\n",
    "5) Lugar das Raízes: O valor se mostra coerente, pois a linha está sobre um número ímpar do somatório de pólos e zeros."
   ]
  },
  {
   "cell_type": "code",
   "execution_count": 3,
   "id": "8d2940f1",
   "metadata": {},
   "outputs": [
    {
     "ename": "ValueError",
     "evalue": "First argument must be continuous time system",
     "output_type": "error",
     "traceback": [
      "\u001b[1;31m---------------------------------------------------------------------------\u001b[0m",
      "\u001b[1;31mValueError\u001b[0m                                Traceback (most recent call last)",
      "Cell \u001b[1;32mIn[3], line 10\u001b[0m\n\u001b[0;32m      7\u001b[0m Gz \u001b[38;5;241m=\u001b[39m ctl\u001b[38;5;241m.\u001b[39mTransferFunction(num, den, \u001b[38;5;28;01mTrue\u001b[39;00m)\n\u001b[0;32m      9\u001b[0m Ts \u001b[38;5;241m=\u001b[39m \u001b[38;5;241m1\u001b[39m\n\u001b[1;32m---> 10\u001b[0m Gs \u001b[38;5;241m=\u001b[39m \u001b[43mctl\u001b[49m\u001b[38;5;241;43m.\u001b[39;49m\u001b[43msample_system\u001b[49m\u001b[43m(\u001b[49m\u001b[43mGz\u001b[49m\u001b[43m,\u001b[49m\u001b[43m \u001b[49m\u001b[43mTs\u001b[49m\u001b[43m,\u001b[49m\u001b[43m \u001b[49m\u001b[43mmethod\u001b[49m\u001b[38;5;241;43m=\u001b[39;49m\u001b[38;5;124;43m'\u001b[39;49m\u001b[38;5;124;43mtustin\u001b[39;49m\u001b[38;5;124;43m'\u001b[39;49m\u001b[43m)\u001b[49m\n\u001b[0;32m     12\u001b[0m plt\u001b[38;5;241m.\u001b[39mfigure()\n\u001b[0;32m     13\u001b[0m ctl\u001b[38;5;241m.\u001b[39mnichols_plot(Gs)\n",
      "File \u001b[1;32m~\\AppData\\Roaming\\Python\\Python312\\site-packages\\control\\dtime.py:123\u001b[0m, in \u001b[0;36msample_system\u001b[1;34m(sysc, Ts, method, alpha, prewarp_frequency, name, copy_names, **kwargs)\u001b[0m\n\u001b[0;32m    121\u001b[0m \u001b[38;5;66;03m# Make sure we have a continuous time system\u001b[39;00m\n\u001b[0;32m    122\u001b[0m \u001b[38;5;28;01mif\u001b[39;00m \u001b[38;5;129;01mnot\u001b[39;00m isctime(sysc):\n\u001b[1;32m--> 123\u001b[0m     \u001b[38;5;28;01mraise\u001b[39;00m \u001b[38;5;167;01mValueError\u001b[39;00m(\u001b[38;5;124m\"\u001b[39m\u001b[38;5;124mFirst argument must be continuous time system\u001b[39m\u001b[38;5;124m\"\u001b[39m)\n\u001b[0;32m    125\u001b[0m \u001b[38;5;28;01mreturn\u001b[39;00m sysc\u001b[38;5;241m.\u001b[39msample(Ts,\n\u001b[0;32m    126\u001b[0m     method\u001b[38;5;241m=\u001b[39mmethod, alpha\u001b[38;5;241m=\u001b[39malpha, prewarp_frequency\u001b[38;5;241m=\u001b[39mprewarp_frequency,\n\u001b[0;32m    127\u001b[0m     name\u001b[38;5;241m=\u001b[39mname, copy_names\u001b[38;5;241m=\u001b[39mcopy_names, \u001b[38;5;241m*\u001b[39m\u001b[38;5;241m*\u001b[39mkwargs)\n",
      "\u001b[1;31mValueError\u001b[0m: First argument must be continuous time system"
     ]
    }
   ],
   "source": [
    "import numpy as np\n",
    "import matplotlib.pyplot as plt\n",
    "import control as ctl\n",
    "\n",
    "num = [0.6177]\n",
    "den = [1, -0.7770]\n",
    "Gz = ctl.TransferFunction(num, den, True)\n",
    "\n",
    "Ts = 1\n",
    "Gs = ctl.sample_system(Gz, Ts, method='tustin')\n",
    "\n",
    "plt.figure()\n",
    "ctl.nichols_plot(Gs)\n",
    "plt.show()"
   ]
  },
  {
   "cell_type": "markdown",
   "id": "7cb3d1a5",
   "metadata": {},
   "source": [
    "3) Bode: O valor não possui a margem de fase desejada, ao saturar\n",
    " em -180º a partir da amostragem o sistema se mostra incapaz de\n",
    " ultrapassar a zona instável."
   ]
  },
  {
   "cell_type": "code",
   "execution_count": null,
   "id": "20d1828f",
   "metadata": {},
   "outputs": [],
   "source": [
    "plt.figure()\n",
    "ctl.bode_plot(Gs)\n",
    "plt.show()"
   ]
  },
  {
   "cell_type": "markdown",
   "id": "73febf42",
   "metadata": {},
   "source": [
    "4) Nichols:"
   ]
  },
  {
   "cell_type": "code",
   "execution_count": 2,
   "id": "9441fd6b",
   "metadata": {},
   "outputs": [
    {
     "ename": "NameError",
     "evalue": "name 'ctl' is not defined",
     "output_type": "error",
     "traceback": [
      "\u001b[0;31m---------------------------------------------------------------------------\u001b[0m",
      "\u001b[0;31mNameError\u001b[0m                                 Traceback (most recent call last)",
      "Cell \u001b[0;32mIn[2], line 2\u001b[0m\n\u001b[1;32m      1\u001b[0m plt\u001b[38;5;241m.\u001b[39mfigure()\n\u001b[0;32m----> 2\u001b[0m \u001b[43mctl\u001b[49m\u001b[38;5;241m.\u001b[39mnichols_plot(Gs)\n\u001b[1;32m      3\u001b[0m plt\u001b[38;5;241m.\u001b[39mshow()\n",
      "\u001b[0;31mNameError\u001b[0m: name 'ctl' is not defined"
     ]
    },
    {
     "data": {
      "text/plain": [
       "<Figure size 640x480 with 0 Axes>"
      ]
     },
     "metadata": {},
     "output_type": "display_data"
    }
   ],
   "source": [
    "plt.figure()\n",
    "ctl.nichols_plot(Gs)\n",
    "plt.show()"
   ]
  },
  {
   "cell_type": "markdown",
   "id": "b5b69652",
   "metadata": {},
   "source": [
    "5) Lugar das Raízes: O valor se mostra coerente, pois a linha está sobre um número ímpar do somatório de pólos e zeros."
   ]
  },
  {
   "cell_type": "code",
   "execution_count": null,
   "id": "67b846f9",
   "metadata": {},
   "outputs": [],
   "source": [
    "plt.figure()\n",
    "ctl.rlocus(Gz)\n",
    "plt.show()"
   ]
  }
 ],
 "metadata": {
  "kernelspec": {
   "display_name": "Python 3",
   "language": "python",
   "name": "python3"
  },
  "language_info": {
   "codemirror_mode": {
    "name": "ipython",
    "version": 3
   },
   "file_extension": ".py",
   "mimetype": "text/x-python",
   "name": "python",
   "nbconvert_exporter": "python",
   "pygments_lexer": "ipython3",
   "version": "3.12.2"
  }
 },
 "nbformat": 4,
 "nbformat_minor": 5
}
