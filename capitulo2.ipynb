{
 "cells": [
  {
   "cell_type": "markdown",
   "id": "4d3d74710945116",
   "metadata": {
    "collapsed": false
   },
   "source": [
    "## **Capítulo 2**\n",
    "\n",
    "1) Ts = 40s, h = 10, Ts determina o tempo que uma nova amostra será coletada, \n",
    "já h determina o passo que será dado para a alteração de uma entrada.\n",
    "\n",
    "2) O intervalo de integração, uma vez que em um ambiente computadorizado \n",
    "despreza-se o tempo de atuação da entrada ao sistema, que estaria na \n",
    "frequência de atuação da unidade de processamento.\n",
    "\n",
    "3) Ao mudar a taxa de amostragem é possível aferir modelos mais próprios \n",
    "para uma faixa de amostragem, ou seja, os modelos são próximos só \n",
    "para um conjunto de taxas de amostragem saindo desse conjunto, \n",
    "outros são melhores. A simulações abaixo são para amostragem com \n",
    "\n"
   ]
  },
  {
   "cell_type": "code",
   "execution_count": null,
   "id": "initial_id",
   "metadata": {
    "collapsed": true
   },
   "outputs": [],
   "source": [
    "%run modelo_planta_ph/simrk_ph_teste.py"
   ]
  },
  {
   "cell_type": "markdown",
   "id": "ece81db7",
   "metadata": {},
   "source": [
    "4) O segurador de ordem zero é emulado pelo trecho `kc = (k-1)*Ts/h + 1`, \n",
    "onde o tempo anterior é multiplicado pelo período de amostragem e \n",
    "integrado e adicionado 1."
   ]
  }
 ],
 "metadata": {
  "kernelspec": {
   "display_name": "Python 3",
   "language": "python",
   "name": "python3"
  },
  "language_info": {
   "codemirror_mode": {
    "name": "ipython",
    "version": 2
   },
   "file_extension": ".py",
   "mimetype": "text/x-python",
   "name": "python",
   "nbconvert_exporter": "python",
   "pygments_lexer": "ipython2",
   "version": "2.7.6"
  }
 },
 "nbformat": 4,
 "nbformat_minor": 5
}
