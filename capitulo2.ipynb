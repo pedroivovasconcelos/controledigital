{
 "cells": [
  {
   "cell_type": "markdown",
   "source": [
    "## **Capítulo 2**\n",
    "\n",
    "1) Ts = 40s, h = 10, Ts determina o tempo que uma nova amostra será coletada, \n",
    "já h determina o passo que será dado para a alteração de uma entrada.\n",
    "\n",
    "2) O intervalo de integração, uma vez que em um ambiente computadorizado \n",
    "despreza-se o tempo de atuação da entrada ao sistema, que estaria na \n",
    "frequência de atuação da unidade de processamento.\n",
    "\n",
    "3) Ao mudar a taxa de amostragem é possível aferir modelos mais próprios \n",
    "para uma faixa de amostragem, ou seja, os modelos são próximos só \n",
    "para um conjunto de taxas de amostragem saindo desse conjunto, \n",
    "outros são melhores.\n",
    "\n",
    "4) O segurador de ordem zero é emulado pelo trecho `kc = (k-1)*Ts/h + 1`, \n",
    "onde o tempo anterior é multiplicado pelo período de amostragem e \n",
    "integrado e adicionado 1."
   ],
   "metadata": {
    "collapsed": false
   },
   "id": "4d3d74710945116"
  },
  {
   "cell_type": "code",
   "outputs": [],
   "source": [],
   "metadata": {
    "collapsed": true
   },
   "id": "initial_id",
   "execution_count": 0
  }
 ],
 "metadata": {
  "kernelspec": {
   "display_name": "Python 3",
   "language": "python",
   "name": "python3"
  },
  "language_info": {
   "codemirror_mode": {
    "name": "ipython",
    "version": 2
   },
   "file_extension": ".py",
   "mimetype": "text/x-python",
   "name": "python",
   "nbconvert_exporter": "python",
   "pygments_lexer": "ipython2",
   "version": "2.7.6"
  }
 },
 "nbformat": 4,
 "nbformat_minor": 5
}
