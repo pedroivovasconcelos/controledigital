{
 "cells": [
  {
   "cell_type": "markdown",
   "id": "1d58b32860dd5d45",
   "metadata": {
    "collapsed": false
   },
   "source": [
    "Pedro Ivo Vasconcelos - TP\n",
    "\n",
    "## **Capítulo 7**\n",
    "\n",
    "1)\n",
    "\n",
    "\n",
    "2)\n",
    "\n",
    "\n",
    "3)"
   ]
  }
 ],
 "metadata": {
  "kernelspec": {
   "display_name": "Python 3",
   "language": "python",
   "name": "python3"
  },
  "language_info": {
   "codemirror_mode": {
    "name": "ipython",
    "version": 2
   },
   "file_extension": ".py",
   "mimetype": "text/x-python",
   "name": "python",
   "nbconvert_exporter": "python",
   "pygments_lexer": "ipython2",
   "version": "2.7.6"
  }
 },
 "nbformat": 4,
 "nbformat_minor": 5
}
