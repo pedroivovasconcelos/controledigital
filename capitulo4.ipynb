{
 "cells": [
  {
   "cell_type": "code",
   "execution_count": null,
   "id": "40b3bd49",
   "metadata": {},
   "outputs": [],
   "source": []
  },
  {
   "cell_type": "markdown",
   "id": "1d58b32860dd5d45",
   "metadata": {
    "collapsed": false
   },
   "source": [
    "Pedro Ivo Vasconcelos - TP\n",
    "\n",
    "## **Capítulo 4**\n",
    "\n",
    "1) O código emula as plantas está nas linhas 102 a 108, onde, para gerar cada saída,\n",
    " o valor é comparado com suas respectivas entradas e saídas anteriores com os\n",
    "  ganhos relativos a essas constantes.\n",
    "\n",
    "\n",
    "2) Figuras(G1(z) a G5(z) respectivamente):\n",
    "\n",
    "<img alt=\"Diagrama de Bode1\" src=\"anexos\\c4e2_1 Diagrama de Bode.png\" title=\"Diagrama de Bode 1\">\n",
    "\n",
    "\n",
    "<img alt=\"Diagrama de Bode2\" src=\"anexos\\c4e2_2 Diagrama de Bode.png\" title=\"Diagrama de Bode 2\">\n",
    "\n",
    "\n",
    "<img alt=\"Diagrama de Bode3\" src=\"anexos\\c4e2_3 Diagrama de Bode.png\" title=\"Diagrama de Bode 3\">\n",
    "\n",
    "\n",
    "<img alt=\"Diagrama de Bode4\" src=\"anexos\\c4e2_4 Diagrama de Bode.png\" title=\"Diagrama de Bode 4\">\n",
    "\n",
    "\n",
    "3) Respostas\n",
    "\n",
    "**a.** Bode:\n",
    "\n",
    "<img alt=\"Diagrama de Bode\" src=\"anexos\\c4e3_a Diagrama de Bode.png\" title=\"Diagrama de Bode\">\n",
    "\n",
    "**b.** Discretizado: $$\\frac{Y(z)}{U(z)} = \\frac{2.764}{z - 2.085 \\times 10^{-3}}$$"
   ]
  }
 ],
 "metadata": {
  "kernelspec": {
   "display_name": "Python 3",
   "language": "python",
   "name": "python3"
  },
  "language_info": {
   "codemirror_mode": {
    "name": "ipython",
    "version": 2
   },
   "file_extension": ".py",
   "mimetype": "text/x-python",
   "name": "python",
   "nbconvert_exporter": "python",
   "pygments_lexer": "ipython2",
   "version": "3.12.2"
  }
 },
 "nbformat": 4,
 "nbformat_minor": 5
}
